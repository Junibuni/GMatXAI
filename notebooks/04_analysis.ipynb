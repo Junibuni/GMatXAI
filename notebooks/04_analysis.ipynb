{
 "cells": [
  {
   "cell_type": "code",
   "execution_count": 1,
   "metadata": {},
   "outputs": [],
   "source": [
    "import os\n",
    "\n",
    "import pandas as pd\n",
    "from sklearn.ensemble import RandomForestRegressor\n",
    "from sklearn.preprocessing import LabelEncoder\n",
    "import matplotlib.pyplot as plt\n",
    "\n",
    "def analyze_param_importance(csv_path, target_col=\"val_mae\", output_dir=None):\n",
    "    df = pd.read_csv(csv_path)\n",
    "    df = df.dropna()\n",
    "\n",
    "    X = df.drop(columns=[target_col, \"tag\", \"error\"], errors=\"ignore\")\n",
    "    y = df[target_col]\n",
    "\n",
    "    for col in X.columns:\n",
    "        if X[col].dtype == \"object\":\n",
    "            X[col] = LabelEncoder().fit_transform(X[col])\n",
    "\n",
    "    model = RandomForestRegressor(n_estimators=100, random_state=42)\n",
    "    model.fit(X, y)\n",
    "\n",
    "    importances = model.feature_importances_\n",
    "    correlations = X.corrwith(y)\n",
    "\n",
    "    importance_df = pd.DataFrame({\n",
    "        \"hyperparameter\": X.columns,\n",
    "        \"importance\": importances,\n",
    "        \"correlation\": correlations\n",
    "    }).sort_values(\"importance\", ascending=False)\n",
    "\n",
    "    if output_dir is None:\n",
    "        output_dir = os.path.dirname(csv_path)\n",
    "    os.makedirs(output_dir, exist_ok=True)\n",
    "\n",
    "    plt.figure(figsize=(8, 5))\n",
    "    ax1 = plt.gca()\n",
    "    importance_df.plot.barh(\n",
    "        x=\"hyperparameter\", y=\"importance\", ax=ax1,\n",
    "        color=\"steelblue\", legend=False\n",
    "    )\n",
    "    ax1.set_xlabel(\"Random Forest Importance\")\n",
    "    ax1.set_title(\"Hyperparameter Importance\")\n",
    "    plt.tight_layout()\n",
    "    plt.savefig(os.path.join(output_dir, \"hparam_importance.png\"))\n",
    "\n",
    "    # out_csv = os.path.join(output_dir, \"hparam_importance.csv\")\n",
    "    # importance_df.to_csv(out_csv, index=False)\n",
    "\n",
    "    return importance_df"
   ]
  },
  {
   "cell_type": "code",
   "execution_count": null,
   "metadata": {},
   "outputs": [],
   "source": []
  }
 ],
 "metadata": {
  "kernelspec": {
   "display_name": "venv",
   "language": "python",
   "name": "python3"
  },
  "language_info": {
   "codemirror_mode": {
    "name": "ipython",
    "version": 3
   },
   "file_extension": ".py",
   "mimetype": "text/x-python",
   "name": "python",
   "nbconvert_exporter": "python",
   "pygments_lexer": "ipython3",
   "version": "3.10.10"
  }
 },
 "nbformat": 4,
 "nbformat_minor": 2
}
