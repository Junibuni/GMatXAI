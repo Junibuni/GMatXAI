{
 "cells": [
  {
   "cell_type": "code",
   "execution_count": 1,
   "metadata": {},
   "outputs": [],
   "source": [
    "import sys\n",
    "import os\n",
    "\n",
    "project_root = os.path.abspath(os.path.join(os.getcwd(), \"..\"))\n",
    "\n",
    "sys.path.append(project_root)"
   ]
  },
  {
   "cell_type": "code",
   "execution_count": 2,
   "metadata": {},
   "outputs": [],
   "source": [
    "import matplotlib.pyplot as plt\n",
    "\n",
    "import torch\n",
    "import torch.optim as optim\n",
    "\n",
    "from src.models.cgcnn import CGCNN\n",
    "from src.data.loader import get_loaders\n",
    "from src.train.trainer import Trainer"
   ]
  },
  {
   "cell_type": "code",
   "execution_count": 3,
   "metadata": {},
   "outputs": [],
   "source": [
    "train_loader, val_loader, test_loader = get_loaders(\"../data/processed\",\n",
    "                                                    target=\"formation_energy_per_atom\",\n",
    "                                                    batch_size=16,\n",
    "                                                    num_workers=0,\n",
    "                                                    train_ratio=0.8,\n",
    "                                                    val_ratio=0.1,\n",
    "                                                    seed=42)\n",
    "\n",
    "model = CGCNN(\n",
    "    node_fea_len=118,\n",
    "    edge_fea_len=1,\n",
    "    hidden_fea_len=16,\n",
    "    n_conv=5,\n",
    "    out_dim=1\n",
    ")\n",
    "\n",
    "optimizer = optim.Adam(model.parameters(), lr=1e-5)\n",
    "\n",
    "trainer = Trainer(\n",
    "    model,\n",
    "    train_loader,\n",
    "    val_loader,\n",
    "    optimizer,\n",
    "    device=\"cuda\" if torch.cuda.is_available() else \"cpu\"\n",
    ")"
   ]
  },
  {
   "cell_type": "code",
   "execution_count": null,
   "metadata": {},
   "outputs": [
    {
     "name": "stderr",
     "output_type": "stream",
     "text": [
      "Epoch 1 [Train]:   2%|▏         | 25/1414 [00:01<00:43, 31.85it/s, loss=0.68] "
     ]
    }
   ],
   "source": [
    "best_model, train_losses, val_maes = trainer.train(num_epochs=500, max_prints=20)"
   ]
  },
  {
   "cell_type": "code",
   "execution_count": null,
   "metadata": {},
   "outputs": [],
   "source": [
    "plt.figure()\n",
    "plt.plot(train_losses, label=\"train loss\")\n",
    "plt.plot(val_maes, label='val loss')\n",
    "plt.legend()\n",
    "plt.xlabel('epochs')\n",
    "plt.ylabel('loss')\n",
    "plt.show()"
   ]
  },
  {
   "cell_type": "code",
   "execution_count": null,
   "metadata": {},
   "outputs": [],
   "source": [
    "model.load_state_dict(best_model)\n",
    "trainer.test(test_loader, metric=\"mae\")\n",
    "trainer.test(test_loader, metric=\"rmse\")"
   ]
  }
 ],
 "metadata": {
  "kernelspec": {
   "display_name": "venv",
   "language": "python",
   "name": "python3"
  },
  "language_info": {
   "codemirror_mode": {
    "name": "ipython",
    "version": 3
   },
   "file_extension": ".py",
   "mimetype": "text/x-python",
   "name": "python",
   "nbconvert_exporter": "python",
   "pygments_lexer": "ipython3",
   "version": "3.10.10"
  }
 },
 "nbformat": 4,
 "nbformat_minor": 2
}
