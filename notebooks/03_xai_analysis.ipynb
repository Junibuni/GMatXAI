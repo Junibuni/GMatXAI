{
 "cells": [
  {
   "cell_type": "code",
   "execution_count": 1,
   "metadata": {},
   "outputs": [],
   "source": [
    "import sys\n",
    "import os\n",
    "\n",
    "project_root = os.path.abspath(os.path.join(os.getcwd(), \"..\"))\n",
    "\n",
    "sys.path.append(project_root)"
   ]
  },
  {
   "cell_type": "code",
   "execution_count": 2,
   "metadata": {},
   "outputs": [],
   "source": [
    "import torch\n",
    "\n",
    "from src.models.cgcnn import CGCNN\n",
    "from src.xai.wrappers import CGCNNWrapper\n",
    "from src.data.loader import get_loaders\n",
    "from src.utils.io import load_model\n",
    "from src.xai.gnn_explainer import explain_prediction\n",
    "from src.utils.config import load_config"
   ]
  },
  {
   "cell_type": "code",
   "execution_count": 3,
   "metadata": {},
   "outputs": [],
   "source": [
    "yaml_pth = \"../configs/test.yaml\"\n",
    "cfg = load_config(yaml_pth)"
   ]
  },
  {
   "cell_type": "code",
   "execution_count": null,
   "metadata": {},
   "outputs": [],
   "source": [
    "train_loader, val_loader, test_loader = get_loaders(\"../data/processed\",\n",
    "                                                    target=[\"formation_energy_per_atom\"],\n",
    "                                                    batch_size=16,\n",
    "                                                    num_workers=0,\n",
    "                                                    train_ratio=0.8,\n",
    "                                                    val_ratio=0.1,\n",
    "                                                    seed=42)\n",
    "\n",
    "model = CGCNN(\n",
    "        node_input_dim=cfg.model.node_input_dim,\n",
    "        edge_input_dim=cfg.model.edge_input_dim,\n",
    "        hidden_dim=cfg.model.hidden_dim,\n",
    "        num_layers=cfg.model.num_layers,\n",
    "        output_dim=cfg.model.output_dim,\n",
    "    )\n",
    "\n",
    "model = load_model(model, \"../checkpoints/cgcnn_test_best.pth\", device=\"cuda\")"
   ]
  },
  {
   "cell_type": "code",
   "execution_count": null,
   "metadata": {},
   "outputs": [],
   "source": [
    "data_iter = iter(test_loader)\n",
    "first_batch = next(data_iter)\n",
    "data = first_batch[0]\n",
    "print(data)"
   ]
  },
  {
   "cell_type": "code",
   "execution_count": null,
   "metadata": {},
   "outputs": [],
   "source": [
    "from src.xai.gnn_explainer import build_explainer\n",
    "\n",
    "wrapped_model = CGCNNWrapper(model)\n",
    "\n",
    "data = data.to(\"cuda\")\n",
    "\n",
    "explainer = build_explainer(wrapped_model, epochs=100)\n",
    "explanation = explainer(\n",
    "    x=data.x,\n",
    "    edge_index=data.edge_index,\n",
    "    edge_attr=data.edge_attr,\n",
    "    target=data.y\n",
    ")\n",
    "\n",
    "# 결과 확인\n",
    "edge_mask = explanation.edge_mask.detach().cpu()\n",
    "print(\"Edge importance:\", edge_mask[:10])"
   ]
  },
  {
   "cell_type": "code",
   "execution_count": null,
   "metadata": {},
   "outputs": [],
   "source": [
    "from torch_geometric.explain import Explainer, GNNExplainer\n",
    "\n",
    "explainer = build_explainer(wrapped_model, epochs=100)\n",
    "explanation = explainer(\n",
    "    x=sample.x,\n",
    "    edge_index=sample.edge_index,\n",
    "    edge_attr=sample.edge_attr,\n",
    "    batch=sample.batch if hasattr(sample, \"batch\") else torch.zeros(sample.x.size(0), dtype=torch.long).to(sample.x.device),\n",
    "    target=sample.y\n",
    ")\n",
    "\n",
    "node_index = 10\n",
    "explanation = explainer(data.x, data.edge_index, index=node_index)\n",
    "print(f'Generated explanations in {explanation.available_explanations}')\n",
    "\n",
    "path = 'feature_importance.png'\n",
    "explanation.visualize_feature_importance(path, top_k=10)\n",
    "print(f\"Feature importance plot has been saved to '{path}'\")\n",
    "\n",
    "path = 'subgraph.pdf'\n",
    "explanation.visualize_graph(path)\n",
    "print(f\"Subgraph visualization plot has been saved to '{path}'\")"
   ]
  },
  {
   "cell_type": "code",
   "execution_count": null,
   "metadata": {},
   "outputs": [],
   "source": [
    "explain_prediction(\n",
    "    model=CGCNNWrapper(model),\n",
    "    data=data,\n",
    "    save_path=\"../explain_sample0.png\"\n",
    ")"
   ]
  }
 ],
 "metadata": {
  "kernelspec": {
   "display_name": "venv",
   "language": "python",
   "name": "python3"
  },
  "language_info": {
   "codemirror_mode": {
    "name": "ipython",
    "version": 3
   },
   "file_extension": ".py",
   "mimetype": "text/x-python",
   "name": "python",
   "nbconvert_exporter": "python",
   "pygments_lexer": "ipython3",
   "version": "3.10.10"
  }
 },
 "nbformat": 4,
 "nbformat_minor": 2
}
