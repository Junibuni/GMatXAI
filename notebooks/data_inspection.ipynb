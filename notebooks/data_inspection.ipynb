{
 "cells": [
  {
   "cell_type": "code",
   "execution_count": 19,
   "id": "98b08cff",
   "metadata": {},
   "outputs": [],
   "source": [
    "from mp_api.client import MPRester\n",
    "TARGET_PROPERTIES = [\"formation_energy_per_atom\", \"band_gap\"]\n",
    "\n",
    "def fetch_structures_in_batches(api_key, total_limit=None, target_properties=[], chunk_size=500):\n",
    "    from itertools import islice\n",
    "    all_docs = []\n",
    "    \n",
    "    filter_kwargs = {\n",
    "        \"is_stable\": True\n",
    "    }\n",
    "\n",
    "    with MPRester(api_key) as mpr:\n",
    "        generator = mpr.materials.summary.search(\n",
    "            **filter_kwargs,\n",
    "            fields=[\"material_id\", \"structure\", \"formula_pretty\", \"formula_anonymous\"] + TARGET_PROPERTIES + target_properties,\n",
    "            num_chunks=total_limit,\n",
    "            chunk_size=chunk_size\n",
    "        )\n",
    "\n",
    "        for doc in islice(generator, total_limit):\n",
    "            all_docs.append(doc)\n",
    "\n",
    "    print(f\"Collected {len(all_docs)} structures.\")\n",
    "    \n",
    "    return all_docs"
   ]
  },
  {
   "cell_type": "code",
   "execution_count": 20,
   "id": "93f7ae9d",
   "metadata": {},
   "outputs": [
    {
     "name": "stderr",
     "output_type": "stream",
     "text": [
      "Retrieving SummaryDoc documents: 100%|██████████| 15000/15000 [00:29<00:00, 503.51it/s]\n"
     ]
    },
    {
     "name": "stdout",
     "output_type": "stream",
     "text": [
      "Collected 30 structures.\n"
     ]
    }
   ],
   "source": [
    "MAPI = \"Sdt6SkxvPcGn8RF6kCM7cTKbfRmydMII\"\n",
    "\n",
    "mp_docs = fetch_structures_in_batches(\n",
    "    api_key=MAPI,\n",
    "    total_limit=30,\n",
    "    target_properties=[],\n",
    "    chunk_size=500\n",
    ")"
   ]
  },
  {
   "cell_type": "code",
   "execution_count": 22,
   "id": "1650ba6a",
   "metadata": {},
   "outputs": [
    {
     "data": {
      "text/plain": [
       "\u001b[4m\u001b[1mMPDataDoc<SummaryDoc>\u001b[0;0m\u001b[0;0m(\n",
       "\u001b[1mformula_pretty\u001b[0;0m='Ac2IrRh',\n",
       "\u001b[1mformula_anonymous\u001b[0;0m='ABC2',\n",
       "\u001b[1mmaterial_id\u001b[0;0m=MPID(mp-1183093),\n",
       "\u001b[1mstructure\u001b[0;0m=Structure Summary\n",
       "Lattice\n",
       "    abc : 5.234427767456992 5.234427767456992 5.234427767456992\n",
       " angles : 59.99999999999999 59.99999999999999 59.99999999999999\n",
       " volume : 101.41276773783284\n",
       "      A : np.float64(0.0) np.float64(3.70129937) np.float64(3.70129937)\n",
       "      B : np.float64(3.70129937) np.float64(0.0) np.float64(3.70129937)\n",
       "      C : np.float64(3.70129937) np.float64(3.70129937) np.float64(-0.0)\n",
       "    pbc : True True True\n",
       "PeriodicSite: Ac (5.552, 5.552, 5.552) [0.75, 0.75, 0.75]\n",
       "PeriodicSite: Ac (1.851, 1.851, 1.851) [0.25, 0.25, 0.25]\n",
       "PeriodicSite: Ir (3.701, 3.701, 3.701) [0.5, 0.5, 0.5]\n",
       "PeriodicSite: Rh (0.0, 0.0, 0.0) [0.0, -0.0, -0.0],\n",
       "\u001b[1mformation_energy_per_atom\u001b[0;0m=-0.534733513749998,\n",
       "\u001b[1mband_gap\u001b[0;0m=0.0,\n",
       "\u001b[1mfields_not_requested\u001b[0;0m=['builder_meta', 'nsites', 'elements', 'nelements', 'composition', 'composition_reduced', 'chemsys', 'volume', 'density', 'density_atomic', 'symmetry', 'property_name', 'deprecated', 'deprecation_reasons', 'last_updated', 'origins', 'warnings', 'task_ids', 'uncorrected_energy_per_atom', 'energy_per_atom', 'energy_above_hull', 'is_stable', 'equilibrium_reaction_energy_per_atom', 'decomposes_to', 'xas', 'grain_boundaries', 'cbm', 'vbm', 'efermi', 'is_gap_direct', 'is_metal', 'es_source_calc_id', 'bandstructure', 'dos', 'dos_energy_up', 'dos_energy_down', 'is_magnetic', 'ordering', 'total_magnetization', 'total_magnetization_normalized_vol', 'total_magnetization_normalized_formula_units', 'num_magnetic_sites', 'num_unique_magnetic_sites', 'types_of_magnetic_species', 'bulk_modulus', 'shear_modulus', 'universal_anisotropy', 'homogeneous_poisson', 'e_total', 'e_ionic', 'e_electronic', 'n', 'e_ij_max', 'weighted_surface_energy_EV_PER_ANG2', 'weighted_surface_energy', 'weighted_work_function', 'surface_anisotropy', 'shape_factor', 'has_reconstructed', 'possible_species', 'has_props', 'theoretical', 'database_IDs']\n",
       ")"
      ]
     },
     "execution_count": 22,
     "metadata": {},
     "output_type": "execute_result"
    }
   ],
   "source": [
    "struct = mp_docs[10].structure\n",
    "\n",
    "mp_docs[10]"
   ]
  },
  {
   "cell_type": "code",
   "execution_count": null,
   "id": "7f50a215",
   "metadata": {},
   "outputs": [],
   "source": [
    "from pymatgen.core import Structure\n",
    "\n",
    "def mp_to_jarvis(mp_doc):\n",
    "    struct: Structure = mp_doc.structure\n",
    "    lattice = struct.lattice\n",
    "\n",
    "    jarvis_dict = {\n",
    "        'id': str(mp_doc.material_id),\n",
    "        'formula': struct.composition.reduced_formula,\n",
    "        'formation_energy_per_atom': mp_doc.formation_energy_per_atom,\n",
    "        'band_gap': mp_doc.band_gap,\n",
    "        'atoms': {\n",
    "            'lattice_mat': [list(lattice.matrix[i]) for i in range(3)],\n",
    "            'coords': [site.frac_coords.tolist() for site in struct],\n",
    "            'elements': [str(site.specie) for site in struct],\n",
    "            'abc': list(lattice.abc),\n",
    "            'angles': list(lattice.angles),\n",
    "            'cartesian': False,\n",
    "            'props': ['' for _ in struct],\n",
    "        }\n",
    "    }\n",
    "\n",
    "    return jarvis_dict\n"
   ]
  },
  {
   "cell_type": "code",
   "execution_count": 24,
   "id": "1bae86e3",
   "metadata": {},
   "outputs": [
    {
     "data": {
      "text/plain": [
       "{'id': 'mp-1183093',\n",
       " 'formula': 'Ac2IrRh',\n",
       " 'e_form': -0.534733513749998,\n",
       " 'gap pbe': 0.0,\n",
       " 'atoms': {'lattice_mat': [[np.float64(0.0),\n",
       "    np.float64(3.70129937),\n",
       "    np.float64(3.70129937)],\n",
       "   [np.float64(3.70129937), np.float64(0.0), np.float64(3.70129937)],\n",
       "   [np.float64(3.70129937), np.float64(3.70129937), np.float64(-0.0)]],\n",
       "  'coords': [[0.75, 0.75, 0.75],\n",
       "   [0.25, 0.25, 0.25],\n",
       "   [0.5, 0.5, 0.5],\n",
       "   [0.0, -0.0, -0.0]],\n",
       "  'elements': ['Ac', 'Ac', 'Ir', 'Rh'],\n",
       "  'abc': [5.234427767456992, 5.234427767456992, 5.234427767456992],\n",
       "  'angles': [59.99999999999999, 59.99999999999999, 59.99999999999999],\n",
       "  'cartesian': False,\n",
       "  'props': ['', '', '', '']}}"
      ]
     },
     "execution_count": 24,
     "metadata": {},
     "output_type": "execute_result"
    }
   ],
   "source": [
    "mp_to_jarvis(mp_docs[10])"
   ]
  },
  {
   "cell_type": "code",
   "execution_count": 33,
   "id": "d78434cc",
   "metadata": {},
   "outputs": [
    {
     "data": {
      "text/plain": [
       "'Ac2IrRh'"
      ]
     },
     "execution_count": 33,
     "metadata": {},
     "output_type": "execute_result"
    }
   ],
   "source": [
    "mp_docs[10].structure.composition.reduced_formula"
   ]
  },
  {
   "cell_type": "code",
   "execution_count": null,
   "id": "c29887ac",
   "metadata": {},
   "outputs": [
    {
     "name": "stdout",
     "output_type": "stream",
     "text": [
      "Obtaining 3D dataset 76k ...\n",
      "Reference:https://www.nature.com/articles/s41524-020-00440-1\n",
      "Other versions:https://doi.org/10.6084/m9.figshare.6815699\n"
     ]
    },
    {
     "name": "stderr",
     "output_type": "stream",
     "text": [
      "100%|██████████| 40.8M/40.8M [00:07<00:00, 5.41MiB/s]\n"
     ]
    },
    {
     "name": "stdout",
     "output_type": "stream",
     "text": [
      "Loading the zipfile...\n",
      "Loading completed.\n"
     ]
    }
   ],
   "source": [
    "from jarvis.db.figshare import data as load_jarvis_data\n",
    "jv_data = load_jarvis_data(\"dft_3d\", store_dir='../data')"
   ]
  },
  {
   "cell_type": "code",
   "execution_count": null,
   "id": "84baab47",
   "metadata": {},
   "outputs": [],
   "source": [
    "import numpy as np\n",
    "import matplotlib\n",
    "import pandas as pd\n",
    "%matplotlib inline\n",
    "import matplotlib.pyplot as plt\n",
    "from matplotlib.gridspec import GridSpec\n",
    "df=pd.DataFrame(jv_data)\n",
    "\n",
    "the_grid = GridSpec(4, 3)\n",
    "plt.rcParams.update({'font.size': 18})\n",
    "plt.figure(figsize=(16,14))\n",
    "\n",
    "plt.subplot(the_grid[0, 0])\n",
    "val=np.array(df['formation_energy_peratom'].replace('na',np.nan).dropna().values,dtype='float')\n",
    "\n",
    "plt.hist(val,bins=np.arange(-4,3,.1))\n",
    "plt.xlabel('Formation enrgies (eV/atom)')\n",
    "plt.ylabel('Materials distribution')\n",
    "\n",
    "plt.subplot(the_grid[0, 1])\n",
    "val=np.array(df['optb88vdw_bandgap'].replace('na',np.nan).dropna().values,dtype='float')\n",
    "plt.hist(val,bins=np.arange(0,8,.1))\n",
    "plt.xlabel('OptB88vdW bandgaps (eV)')\n",
    "#plt.ylabel('Materials distribution')\n",
    "\n",
    "plt.subplot(the_grid[0, 2])\n",
    "val=np.array(df['mbj_bandgap'].replace('na',np.nan).dropna().values,dtype='float')\n",
    "plt.hist(val,bins=np.arange(0,8,.1))\n",
    "plt.xlabel('TBmBJ bandgaps (eV)')\n",
    "#plt.ylabel('Materials distribution')\n",
    "\n",
    "plt.subplot(the_grid[1, 0])\n",
    "val=np.array(df['bulk_modulus_kv'].replace('na',np.nan).dropna().values,dtype='float')\n",
    "plt.hist(val,bins=np.arange(0,250,10))\n",
    "plt.xlabel('Voigt-bulk modulus (GPa)')\n",
    "#plt.ylabel('Materials distribution')\n",
    "\n",
    "\n",
    "plt.subplot(the_grid[1, 1])\n",
    "val=np.array(df['spillage'].replace('na',np.nan).dropna().values,dtype='float')\n",
    "plt.hist(val,bins=np.arange(0,4,.1))\n",
    "plt.xlabel('Spin-orbit spillage')\n",
    "#plt.ylabel('Materials distribution')\n",
    "\n",
    "plt.subplot(the_grid[1, 2])\n",
    "val=np.array(df['slme'].replace('na',np.nan).dropna().values,dtype='float')\n",
    "plt.hist(val,bins=np.arange(0,35,1))\n",
    "plt.xlabel('Solar-SLME (%)')\n",
    "#plt.ylabel('Materials distribution')\n",
    "\n",
    "\n",
    "plt.subplot(the_grid[2, 0])\n",
    "val=np.array(df['dfpt_piezo_max_dielectric'].replace('na',np.nan).dropna().values,dtype='float')\n",
    "plt.hist(val,bins=np.arange(0,50,2))\n",
    "#plt.ylabel('Materials distribution')\n",
    "plt.xlabel('Max.Piezo.coeff(C/m2)')\n",
    "\n",
    "\n",
    "plt.subplot(the_grid[2, 1])\n",
    "val=np.array(df['n-powerfact'].replace('na',np.nan).dropna().values,dtype='float')\n",
    "plt.hist(val,bins=np.arange(0,4000,50))\n",
    "#plt.ylabel('Materials distribution')\n",
    "plt.xlabel('n-Power factor (muW/(mK)2)')\n",
    "\n",
    "plt.subplot(the_grid[2, 2])\n",
    "val=np.array(df['n-Seebeck'].replace('na',np.nan).dropna().values,dtype='float')\n",
    "plt.hist(val,bins=np.arange(-600,0,50))\n",
    "#plt.ylabel('Materials distribution')\n",
    "plt.xlabel('n-Seebeck coeff (muV/K)')\n",
    "\n",
    "\n",
    "plt.subplot(the_grid[3, 0])\n",
    "val=np.array(df['magmom_oszicar'].replace('na',np.nan).dropna().values,dtype='float')\n",
    "plt.hist(val,bins=np.arange(0,20,1))\n",
    "#plt.ylabel('Materials distribution')\n",
    "plt.xlabel('Mag.mom (muB)')\n",
    "\n",
    "\n",
    "plt.subplot(the_grid[3, 1])\n",
    "val=np.array(df['encut'].replace('na',np.nan).dropna().values,dtype='float')\n",
    "plt.hist(val,bins=np.arange(400,1500,50))\n",
    "#plt.ylabel('Materials distribution')\n",
    "plt.xlabel('ENCUT (eV)')\n",
    "\n",
    "\n",
    "\n",
    "plt.subplot(the_grid[3, 2])\n",
    "val=np.sqrt(np.array(df['epsx'].replace('na',np.nan).dropna().values,dtype='float'))\n",
    "plt.hist(val,bins=np.arange(0,25,1))\n",
    "#plt.ylabel('Materials distribution')\n",
    "plt.xlabel('OptB88vdW Refractive index-x')\n",
    "\n",
    "plt.tight_layout()"
   ]
  },
  {
   "cell_type": "code",
   "execution_count": 38,
   "id": "6a51db8b",
   "metadata": {},
   "outputs": [
    {
     "data": {
      "text/plain": [
       "dict_keys(['jid', 'spg_number', 'spg_symbol', 'formula', 'formation_energy_peratom', 'func', 'optb88vdw_bandgap', 'atoms', 'slme', 'magmom_oszicar', 'spillage', 'elastic_tensor', 'effective_masses_300K', 'kpoint_length_unit', 'maxdiff_mesh', 'maxdiff_bz', 'encut', 'optb88vdw_total_energy', 'epsx', 'epsy', 'epsz', 'mepsx', 'mepsy', 'mepsz', 'modes', 'magmom_outcar', 'max_efg', 'avg_elec_mass', 'avg_hole_mass', 'icsd', 'dfpt_piezo_max_eij', 'dfpt_piezo_max_dij', 'dfpt_piezo_max_dielectric', 'dfpt_piezo_max_dielectric_electronic', 'dfpt_piezo_max_dielectric_ionic', 'max_ir_mode', 'min_ir_mode', 'n-Seebeck', 'p-Seebeck', 'n-powerfact', 'p-powerfact', 'ncond', 'pcond', 'nkappa', 'pkappa', 'ehull', 'Tc_supercon', 'dimensionality', 'efg', 'xml_data_link', 'typ', 'exfoliation_energy', 'spg', 'crys', 'density', 'poisson', 'raw_files', 'nat', 'bulk_modulus_kv', 'shear_modulus_gv', 'mbj_bandgap', 'hse_gap', 'reference', 'search'])"
      ]
     },
     "execution_count": 38,
     "metadata": {},
     "output_type": "execute_result"
    }
   ],
   "source": [
    "jv_data[0].keys()"
   ]
  },
  {
   "cell_type": "code",
   "execution_count": 40,
   "id": "8b43bbde",
   "metadata": {},
   "outputs": [
    {
     "data": {
      "text/plain": [
       "dict_keys(['id', 'spg_number', 'spg_symbol', 'formula', 'formation_energy_per_atom', 'func', 'band_gap', 'atoms', 'slme', 'magmom_oszicar', 'spillage', 'elastic_tensor', 'effective_masses_300K', 'kpoint_length_unit', 'maxdiff_mesh', 'maxdiff_bz', 'encut', 'optb88vdw_total_energy', 'epsx', 'epsy', 'epsz', 'mepsx', 'mepsy', 'mepsz', 'modes', 'magmom_outcar', 'max_efg', 'avg_elec_mass', 'avg_hole_mass', 'icsd', 'dfpt_piezo_max_eij', 'dfpt_piezo_max_dij', 'dfpt_piezo_max_dielectric', 'dfpt_piezo_max_dielectric_electronic', 'dfpt_piezo_max_dielectric_ionic', 'max_ir_mode', 'min_ir_mode', 'n-Seebeck', 'p-Seebeck', 'n-powerfact', 'p-powerfact', 'ncond', 'pcond', 'nkappa', 'pkappa', 'ehull', 'Tc_supercon', 'dimensionality', 'efg', 'xml_data_link', 'typ', 'exfoliation_energy', 'spg', 'crys', 'density', 'poisson', 'raw_files', 'nat', 'bulk_modulus_kv', 'shear_modulus_gv', 'mbj_bandgap', 'hse_gap', 'reference', 'search'])"
      ]
     },
     "execution_count": 40,
     "metadata": {},
     "output_type": "execute_result"
    }
   ],
   "source": [
    "key_map = {\n",
    "    \"jid\": \"id\",\n",
    "    \"formation_energy_peratom\": \"formation_energy_per_atom\",\n",
    "    \"optb88vdw_bandgap\": \"band_gap\"\n",
    "}\n",
    "\n",
    "jv_data = [\n",
    "    {key_map.get(k, k): v for k, v in d.items()}\n",
    "    for d in jv_data\n",
    "]\n",
    "jv_data[0].keys()"
   ]
  },
  {
   "cell_type": "code",
   "execution_count": 1,
   "id": "2bc19deb",
   "metadata": {},
   "outputs": [],
   "source": [
    "from jarvis.db.figshare import data as load_jarvis_data\n",
    "\n",
    "def get_jid_data(jid):\n",
    "    d = load_jarvis_data(\"dft_3d\", store_dir='../data/mpjv')\n",
    "    for i in d:\n",
    "        if i[\"jid\"] == jid:\n",
    "            return i"
   ]
  },
  {
   "cell_type": "code",
   "execution_count": 2,
   "id": "64cfb765",
   "metadata": {},
   "outputs": [
    {
     "name": "stdout",
     "output_type": "stream",
     "text": [
      "Obtaining 3D dataset 76k ...\n",
      "Reference:https://www.nature.com/articles/s41524-020-00440-1\n",
      "Other versions:https://doi.org/10.6084/m9.figshare.6815699\n",
      "Loading the zipfile...\n",
      "Loading completed.\n"
     ]
    }
   ],
   "source": [
    "entry = get_jid_data(\"JVASP-127558\")"
   ]
  },
  {
   "cell_type": "code",
   "execution_count": 3,
   "id": "76da30fa",
   "metadata": {},
   "outputs": [
    {
     "name": "stdout",
     "output_type": "stream",
     "text": [
      "jid: JVASP-127558\n",
      "spg_number: 8\n",
      "spg_symbol: Cm\n",
      "formula: HgF3\n",
      "formation_energy_peratom: 4.81123\n",
      "func: OptB88vdW\n",
      "optb88vdw_bandgap: 0.0\n",
      "atoms: {'lattice_mat': [[3.061326360572636, -0.1168835715361886, 0.0], [-1.0997956513103386, 2.859340949659272, 0.0], [0.0, 0.0, 6.4226958085859485]], 'coords': [[0.50144670198092, 0.7010841144674014, 1.7222177637976417], [0.7927976473443289, 1.1084285410373336, 3.9455860729306416], [1.1656271047158158, 1.6296899407052927, 2.4713833785380857], [1.463188545958935, 2.045717403789973, 4.7062127847336335]], 'elements': ['Hg', 'F', 'F', 'F'], 'abc': [3.06356, 3.063558, 6.4227], 'angles': [90.0, 90.0, 113.2249], 'cartesian': True, 'props': ['', '', '', '']}\n",
      "slme: na\n",
      "magmom_oszicar: 0.0\n",
      "spillage: na\n",
      "elastic_tensor: na\n",
      "effective_masses_300K: {'p': 'na', 'n': 'na'}\n",
      "kpoint_length_unit: 25\n",
      "maxdiff_mesh: na\n",
      "maxdiff_bz: na\n",
      "encut: 500\n",
      "optb88vdw_total_energy: 5.52064\n",
      "epsx: 7.2429\n",
      "epsy: 9.4481\n",
      "epsz: 14.6849\n",
      "mepsx: na\n",
      "mepsy: na\n",
      "mepsz: na\n",
      "modes: na\n",
      "magmom_outcar: 0.0\n",
      "max_efg: na\n",
      "avg_elec_mass: na\n",
      "avg_hole_mass: na\n",
      "icsd: \n",
      "dfpt_piezo_max_eij: na\n",
      "dfpt_piezo_max_dij: na\n",
      "dfpt_piezo_max_dielectric: na\n",
      "dfpt_piezo_max_dielectric_electronic: na\n",
      "dfpt_piezo_max_dielectric_ionic: na\n",
      "max_ir_mode: na\n",
      "min_ir_mode: na\n",
      "n-Seebeck: na\n",
      "p-Seebeck: na\n",
      "n-powerfact: na\n",
      "p-powerfact: na\n",
      "ncond: na\n",
      "pcond: na\n",
      "nkappa: na\n",
      "pkappa: na\n",
      "ehull: 5.8606\n",
      "Tc_supercon: na\n",
      "dimensionality: 2D-bulk\n",
      "efg: []\n",
      "xml_data_link: <a href=https://www.ctcms.nist.gov/~knc6/static/JARVIS-DFT/JVASP-127558.xml target='_blank' >JVASP-127558</a>\n",
      "typ: bulk\n",
      "exfoliation_energy: na\n",
      "spg: 8\n",
      "crys: monoclinic\n",
      "density: 7.722\n",
      "poisson: na\n",
      "raw_files: []\n",
      "nat: 4\n",
      "bulk_modulus_kv: na\n",
      "shear_modulus_gv: na\n",
      "mbj_bandgap: na\n",
      "hse_gap: na\n",
      "reference: JVASP-33718\n",
      "search: -F-Hg\n"
     ]
    }
   ],
   "source": [
    "for k, v in entry.items():\n",
    "    print(f\"{k}: {v}\")"
   ]
  },
  {
   "cell_type": "code",
   "execution_count": 4,
   "id": "24a48c20",
   "metadata": {},
   "outputs": [
    {
     "data": {
      "application/vnd.jupyter.widget-view+json": {
       "model_id": "0f9c73eb599a4545a4c2ed7075990c1b",
       "version_major": 2,
       "version_minor": 0
      },
      "text/plain": []
     },
     "metadata": {},
     "output_type": "display_data"
    },
    {
     "data": {
      "application/vnd.jupyter.widget-view+json": {
       "model_id": "26cc5b1d7dc141479ddae4051d11f993",
       "version_major": 2,
       "version_minor": 0
      },
      "text/plain": [
       "NGLWidget()"
      ]
     },
     "metadata": {},
     "output_type": "display_data"
    }
   ],
   "source": [
    "import nglview as nv\n",
    "from ase import Atoms\n",
    "import numpy as np\n",
    "\n",
    "atoms_dict = entry.get(\"atoms\")\n",
    "\n",
    "positions = np.array(atoms_dict['coords'])\n",
    "symbols = atoms_dict['elements']\n",
    "cell = np.array(atoms_dict['lattice_mat'])\n",
    "\n",
    "ase_atoms = Atoms(symbols=symbols, positions=positions, cell=cell, pbc=True)\n",
    "\n",
    "nv.show_ase(ase_atoms)\n"
   ]
  },
  {
   "cell_type": "code",
   "execution_count": null,
   "id": "51f3f5ca",
   "metadata": {},
   "outputs": [],
   "source": []
  }
 ],
 "metadata": {
  "kernelspec": {
   "display_name": "venv",
   "language": "python",
   "name": "python3"
  },
  "language_info": {
   "codemirror_mode": {
    "name": "ipython",
    "version": 3
   },
   "file_extension": ".py",
   "mimetype": "text/x-python",
   "name": "python",
   "nbconvert_exporter": "python",
   "pygments_lexer": "ipython3",
   "version": "3.10.10"
  }
 },
 "nbformat": 4,
 "nbformat_minor": 5
}
